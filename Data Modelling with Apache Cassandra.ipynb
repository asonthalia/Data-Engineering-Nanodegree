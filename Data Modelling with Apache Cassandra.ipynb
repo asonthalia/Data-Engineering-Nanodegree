{
 "cells": [
  {
   "cell_type": "code",
   "execution_count": 9,
   "metadata": {},
   "outputs": [],
   "source": [
    "import cassandra"
   ]
  },
  {
   "cell_type": "code",
   "execution_count": 10,
   "metadata": {},
   "outputs": [],
   "source": [
    "from cassandra.cluster import Cluster\n",
    "try:\n",
    "    cluster = Cluster(['127.0.0.1'])\n",
    "    session = cluster.connect()\n",
    "except Exception as e:\n",
    "    print(e)"
   ]
  },
  {
   "cell_type": "code",
   "execution_count": 11,
   "metadata": {},
   "outputs": [],
   "source": [
    "# Creating the keyspace (~ database)\n",
    "try:\n",
    "    session.execute(\"\"\"\n",
    "        CREATE KEYSPACE IF NOT EXISTS data_modelling\n",
    "        WITH REPLICATION =\n",
    "            {\n",
    "                'class' : 'SimpleStrategy',\n",
    "                'replication_factor' : 1\n",
    "            }\n",
    "    \"\"\")\n",
    "except Exception as e:\n",
    "    print(e)"
   ]
  },
  {
   "cell_type": "code",
   "execution_count": 12,
   "metadata": {},
   "outputs": [],
   "source": [
    "# Connect to the keyspace\n",
    "try:\n",
    "    session.set_keyspace('data_modelling')\n",
    "except Exception as e:\n",
    "    print(e)"
   ]
  },
  {
   "cell_type": "markdown",
   "metadata": {},
   "source": [
    "<h2>Questions for our data</h2>\n",
    "<h4>1. Give me every album in the music library that was released in an year</h4>\n",
    "SELECT * FROM MUSIC_LIBRARY WHERE YEAR = 1970\n",
    "<h4>2. Give me every album in my artist library that was created from a specific artist</h4>\n",
    "SELECT * FROM ARTIST_LIBRARY WHERE ARTIST_NAME = 'THE BEATLES'"
   ]
  },
  {
   "cell_type": "code",
   "execution_count": 13,
   "metadata": {},
   "outputs": [],
   "source": [
    "query = 'CREATE TABLE IF NOT EXISTS music_library '\n",
    "query += '(YEAR INT, ARTIST_NAME TEXT, ALBUM_NAME TEXT, PRIMARY KEY (YEAR, ARTIST_NAME))'\n",
    "try:\n",
    "    session.execute(query)\n",
    "except Exception as e:\n",
    "    print(e)"
   ]
  },
  {
   "cell_type": "code",
   "execution_count": 15,
   "metadata": {},
   "outputs": [],
   "source": [
    "query = 'INSERT INTO music_library (YEAR, ARTIST_NAME, ALBUM_NAME)'\n",
    "query += ' VALUES (%s, %s, %s)'\n",
    "try:\n",
    "    session.execute(query, (1970, 'The Beatles', 'Let It Be'))\n",
    "    session.execute(query, (1965, 'The Beatles', 'I Will Win'))\n",
    "except Exception as e:\n",
    "    print(e)"
   ]
  },
  {
   "cell_type": "code",
   "execution_count": 22,
   "metadata": {},
   "outputs": [],
   "source": [
    "query = 'CREATE TABLE IF NOT EXISTS artist_library '\n",
    "query += '(YEAR INT, ARTIST_NAME TEXT, ALBUM_NAME TEXT, PRIMARY KEY (ARTIST_NAME, YEAR))'\n",
    "try:\n",
    "    session.execute(query)\n",
    "except Exception as e:\n",
    "    print(e)"
   ]
  },
  {
   "cell_type": "code",
   "execution_count": 23,
   "metadata": {},
   "outputs": [],
   "source": [
    "query = 'INSERT INTO artist_library (YEAR, ARTIST_NAME, ALBUM_NAME)'\n",
    "query += ' VALUES (%s, %s, %s)'\n",
    "try:\n",
    "    session.execute(query, (1890, 'The Beatles', 'Let It Be'))\n",
    "    session.execute(query, (1976, 'The Beatles', 'I Will Win'))\n",
    "except Exception as e:\n",
    "    print(e)"
   ]
  },
  {
   "cell_type": "code",
   "execution_count": 17,
   "metadata": {},
   "outputs": [
    {
     "name": "stdout",
     "output_type": "stream",
     "text": [
      "The Beatles 1970 Let It Be\n"
     ]
    }
   ],
   "source": [
    "# Create table\n",
    "try:\n",
    "    rows = session.execute('SELECT * FROM music_library WHERE YEAR = 1970')\n",
    "except Exception as e:\n",
    "    print(e)\n",
    "for row in rows:\n",
    "    print(row.artist_name, row.year, row.album_name)"
   ]
  },
  {
   "cell_type": "code",
   "execution_count": 24,
   "metadata": {},
   "outputs": [
    {
     "name": "stdout",
     "output_type": "stream",
     "text": [
      "The Beatles 1890 Let It Be\n",
      "The Beatles 1976 I Will Win\n"
     ]
    }
   ],
   "source": [
    "# Create table\n",
    "try:\n",
    "    rows = session.execute(\"SELECT * FROM artist_library WHERE artist_name = 'The Beatles'\")\n",
    "except Exception as e:\n",
    "    print(e)\n",
    "for row in rows:\n",
    "    print(row.artist_name, row.year, row.album_name)"
   ]
  },
  {
   "cell_type": "code",
   "execution_count": 19,
   "metadata": {},
   "outputs": [],
   "source": [
    "try:\n",
    "    rows = session.execute('DROP TABLE music_library;')\n",
    "except Exception as e:\n",
    "    print(e)"
   ]
  },
  {
   "cell_type": "code",
   "execution_count": 25,
   "metadata": {},
   "outputs": [],
   "source": [
    "try:\n",
    "    rows = session.execute('DROP TABLE artist_library;')\n",
    "except Exception as e:\n",
    "    print(e)"
   ]
  },
  {
   "cell_type": "code",
   "execution_count": 26,
   "metadata": {},
   "outputs": [],
   "source": [
    "session.shutdown()\n",
    "cluster.shutdown()"
   ]
  }
 ],
 "metadata": {
  "kernelspec": {
   "display_name": "Python 3",
   "language": "python",
   "name": "python3"
  },
  "language_info": {
   "codemirror_mode": {
    "name": "ipython",
    "version": 3
   },
   "file_extension": ".py",
   "mimetype": "text/x-python",
   "name": "python",
   "nbconvert_exporter": "python",
   "pygments_lexer": "ipython3",
   "version": "3.8.5"
  }
 },
 "nbformat": 4,
 "nbformat_minor": 4
}
