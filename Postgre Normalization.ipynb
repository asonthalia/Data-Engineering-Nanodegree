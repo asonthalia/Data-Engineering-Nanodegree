{
 "cells": [
  {
   "cell_type": "code",
   "execution_count": 8,
   "metadata": {},
   "outputs": [],
   "source": [
    "import psycopg2"
   ]
  },
  {
   "cell_type": "code",
   "execution_count": 9,
   "metadata": {},
   "outputs": [],
   "source": [
    "try:\n",
    "    conn = psycopg2.connect(\"host=127.0.0.1 dbname=alpha\")\n",
    "except psycopg2.Error as e:\n",
    "    print('Could not make connection to the Postgre database')\n",
    "    print(e)"
   ]
  },
  {
   "cell_type": "code",
   "execution_count": 10,
   "metadata": {},
   "outputs": [],
   "source": [
    "try:\n",
    "    cursor = conn.cursor()\n",
    "except psycopg2.Error as e:\n",
    "    print('Could not create a cursor to the database')\n",
    "    print(e)"
   ]
  },
  {
   "cell_type": "code",
   "execution_count": 11,
   "metadata": {},
   "outputs": [],
   "source": [
    "conn.set_session(autocommit=True)"
   ]
  },
  {
   "cell_type": "code",
   "execution_count": 12,
   "metadata": {},
   "outputs": [],
   "source": [
    "try:\n",
    "    cursor.execute('''\n",
    "        CREATE TABLE IF NOT EXISTS MUSIC_LIBRARY (\n",
    "            ALBUM_ID INT,\n",
    "            ALBUM_NAME VARCHAR,\n",
    "            ARTIST_NAME VARCHAR,\n",
    "            YEAR INT,\n",
    "            SONGS TEXT[]\n",
    "        );\n",
    "    ''')\n",
    "except psycopg2.Error as e:\n",
    "    print('Could not create table')\n",
    "    print(e)"
   ]
  },
  {
   "cell_type": "code",
   "execution_count": 13,
   "metadata": {},
   "outputs": [],
   "source": [
    "query = '''\n",
    "    INSERT INTO MUSIC_LIBRARY (\n",
    "        ALBUM_ID,\n",
    "        ALBUM_NAME,\n",
    "        ARTIST_NAME,\n",
    "        YEAR,\n",
    "        SONGS\n",
    "    ) \n",
    "    VALUES (\n",
    "        %s, %s, %s, %s, %s\n",
    "    ) \n",
    "'''\n",
    "try:\n",
    "    cursor.execute(query, (1, 'Rubber Soul', 'The Beatles', 1965, ['Michele', 'Think For Yourself', 'In My Life']))\n",
    "    cursor.execute(query, (2, 'Let It Be', 'The Beatles', 1970, ['Let It Be', 'Across The Universe']))\n",
    "except psycopg2.Error as e:\n",
    "    print('Could not insert into table')\n",
    "    print(e)"
   ]
  },
  {
   "cell_type": "code",
   "execution_count": 17,
   "metadata": {},
   "outputs": [],
   "source": [
    "try:\n",
    "    cursor.execute('SELECT * FROM MUSIC_LIBRARY')\n",
    "except psycopg2.Error as e:\n",
    "    print('Could not insert into table')\n",
    "    print(e)"
   ]
  },
  {
   "cell_type": "code",
   "execution_count": 15,
   "metadata": {},
   "outputs": [
    {
     "name": "stdout",
     "output_type": "stream",
     "text": [
      "(1, 'Rubber Soul', 'The Beatles', 1965, ['Michele', 'Think For Yourself', 'In My Life'])\n",
      "(2, 'Let It Be', 'The Beatles', 1970, ['Let It Be', 'Across The Universe'])\n"
     ]
    }
   ],
   "source": [
    "# Method 1 for fetching\n",
    "for row in cursor.fetchall():\n",
    "    print(row)"
   ]
  },
  {
   "cell_type": "code",
   "execution_count": 18,
   "metadata": {},
   "outputs": [
    {
     "name": "stdout",
     "output_type": "stream",
     "text": [
      "(1, 'Rubber Soul', 'The Beatles', 1965, ['Michele', 'Think For Yourself', 'In My Life'])\n",
      "(2, 'Let It Be', 'The Beatles', 1970, ['Let It Be', 'Across The Universe'])\n"
     ]
    }
   ],
   "source": [
    "# Method 2 for fetching\n",
    "row = cursor.fetchone()\n",
    "while row:\n",
    "    print(row)\n",
    "    row = cursor.fetchone()"
   ]
  },
  {
   "cell_type": "markdown",
   "metadata": {},
   "source": [
    "<h3>Starting to convert the database into the 1NF</h3>\n",
    "<h4>No sets or lists should be present in the database</h4>\n"
   ]
  },
  {
   "cell_type": "code",
   "execution_count": 19,
   "metadata": {},
   "outputs": [],
   "source": [
    "try:\n",
    "    cursor.execute('''\n",
    "        CREATE TABLE IF NOT EXISTS MUSIC_LIBRARY_NUCLEAR (\n",
    "            ALBUM_ID INT,\n",
    "            ALBUM_NAME VARCHAR,\n",
    "            ARTIST_NAME VARCHAR,\n",
    "            YEAR INT,\n",
    "            SONGS VARCHAR\n",
    "        );\n",
    "    ''')\n",
    "except psycopg2.Error as e:\n",
    "    print('Could not create table')\n",
    "    print(e)"
   ]
  },
  {
   "cell_type": "code",
   "execution_count": 21,
   "metadata": {},
   "outputs": [],
   "source": [
    "query = '''\n",
    "    INSERT INTO MUSIC_LIBRARY_NUCLEAR (\n",
    "        ALBUM_ID,\n",
    "        ALBUM_NAME,\n",
    "        ARTIST_NAME,\n",
    "        YEAR,\n",
    "        SONGS\n",
    "    ) \n",
    "    VALUES (\n",
    "        %s, %s, %s, %s, %s\n",
    "    ) \n",
    "'''\n",
    "try:\n",
    "    for song in ['Michele', 'Think For Yourself', 'In My Life']:\n",
    "        cursor.execute(query, (1, 'Rubber Soul', 'The Beatles', 1965, song))\n",
    "    for song in ['Let It Be', 'Across The Universe']:\n",
    "        cursor.execute(query, (2, 'Let It Be', 'The Beatles', 1970, song))\n",
    "except psycopg2.Error as e:\n",
    "    print('Could not insert into table')\n",
    "    print(e)"
   ]
  },
  {
   "cell_type": "code",
   "execution_count": 22,
   "metadata": {},
   "outputs": [
    {
     "name": "stdout",
     "output_type": "stream",
     "text": [
      "(1, 'Rubber Soul', 'The Beatles', 1965, 'Michele')\n",
      "(1, 'Rubber Soul', 'The Beatles', 1965, 'Think For Yourself')\n",
      "(1, 'Rubber Soul', 'The Beatles', 1965, 'In My Life')\n",
      "(2, 'Let It Be', 'The Beatles', 1970, 'Let It Be')\n",
      "(2, 'Let It Be', 'The Beatles', 1970, 'Across The Universe')\n"
     ]
    }
   ],
   "source": [
    "try:\n",
    "    cursor.execute('SELECT * FROM MUSIC_LIBRARY_NUCLEAR')\n",
    "except psycopg2.Error as e:\n",
    "    print('Could not insert into table')\n",
    "    print(e)\n",
    "    \n",
    "# Method 2 for fetching\n",
    "row = cursor.fetchone()\n",
    "while row:\n",
    "    print(row)\n",
    "    row = cursor.fetchone()"
   ]
  },
  {
   "cell_type": "markdown",
   "metadata": {},
   "source": [
    "<h3>Starting to convert the database into the 2NF</h3>\n",
    "<h4>Every table must have a primary key</h4>"
   ]
  },
  {
   "cell_type": "code",
   "execution_count": 40,
   "metadata": {},
   "outputs": [],
   "source": [
    "try:\n",
    "    cursor.execute('''\n",
    "        CREATE TABLE IF NOT EXISTS ALBUM_LIBRARY (\n",
    "            ALBUM_ID INT,\n",
    "            ALBUM_NAME VARCHAR,\n",
    "            ARTIST_NAME VARCHAR,\n",
    "            YEAR INT,\n",
    "            PRIMARY KEY (ALBUM_ID)\n",
    "        );\n",
    "    ''')\n",
    "except psycopg2.Error as e:\n",
    "    print('Could not create album table')\n",
    "    print(e)"
   ]
  },
  {
   "cell_type": "code",
   "execution_count": 41,
   "metadata": {},
   "outputs": [],
   "source": [
    "try:\n",
    "    cursor.execute('''\n",
    "        CREATE TABLE IF NOT EXISTS SONG_LIBRARY (\n",
    "            SONG_ID INT,\n",
    "            SONG_NAME VARCHAR,\n",
    "            ALBUM_ID INT\n",
    "        );\n",
    "    ''')\n",
    "except psycopg2.Error as e:\n",
    "    print('Could not create song table')\n",
    "    print(e)"
   ]
  },
  {
   "cell_type": "code",
   "execution_count": null,
   "metadata": {},
   "outputs": [],
   "source": [
    "query = '''\n",
    "    INSERT INTO ALBUM_LIBRARY (\n",
    "        ALBUM_ID,\n",
    "        ALBUM_NAME,\n",
    "        ARTIST_NAME,\n",
    "        YEAR\n",
    "    ) \n",
    "    VALUES (\n",
    "        %s, %s, %s, %s\n",
    "    ) \n",
    "'''\n",
    "try:\n",
    "    cursor.execute(query, (1, 'Rubber Soul', 'The Beatles', 1965))\n",
    "    cursor.execute(query, (2, 'Let It Be', 'The Beatles', 1970))\n",
    "except psycopg2.Error as e:\n",
    "    print('Could not insert into table')\n",
    "    print(e)"
   ]
  },
  {
   "cell_type": "code",
   "execution_count": 43,
   "metadata": {},
   "outputs": [],
   "source": [
    "query = '''\n",
    "    INSERT INTO SONG_LIBRARY (\n",
    "        SONG_ID,\n",
    "        SONG_NAME,\n",
    "        ALBUM_ID\n",
    "    ) \n",
    "    VALUES (\n",
    "        %s, %s, %s\n",
    "    ) \n",
    "'''\n",
    "try:\n",
    "    cursor.execute(query, (1, 'Michele', 1))\n",
    "    cursor.execute(query, (2, 'Think For Yourself', 1))\n",
    "    cursor.execute(query, (3, 'In My Life', 1))\n",
    "    cursor.execute(query, (4, 'Let It Be', 2))\n",
    "    cursor.execute(query, (5, 'Across The Universe', 2))\n",
    "except psycopg2.Error as e:\n",
    "    print('Could not insert into table')\n",
    "    print(e)"
   ]
  },
  {
   "cell_type": "code",
   "execution_count": 50,
   "metadata": {},
   "outputs": [
    {
     "name": "stdout",
     "output_type": "stream",
     "text": [
      "('Michele', 1, 'Rubber Soul', 'The Beatles', 1965)\n",
      "('Think For Yourself', 1, 'Rubber Soul', 'The Beatles', 1965)\n",
      "('In My Life', 1, 'Rubber Soul', 'The Beatles', 1965)\n",
      "('Let It Be', 2, 'Let It Be', 'The Beatles', 1970)\n",
      "('Across The Universe', 2, 'Let It Be', 'The Beatles', 1970)\n"
     ]
    }
   ],
   "source": [
    "query = '''\n",
    "    SELECT \n",
    "          A.SONG_NAME\n",
    "        , B.*\n",
    "    \n",
    "    FROM \n",
    "        SONG_LIBRARY AS A \n",
    "            LEFT JOIN \n",
    "                ALBUM_LIBRARY AS B ON A.ALBUM_ID = B.ALBUM_ID\n",
    "'''\n",
    "try:\n",
    "    cursor.execute(query)\n",
    "except psycopg2.Error as e:\n",
    "    print('Could not insert into table')\n",
    "    print(e)\n",
    "\n",
    "row = cursor.fetchone()\n",
    "while row:\n",
    "    print(row)\n",
    "    row = cursor.fetchone()"
   ]
  },
  {
   "cell_type": "markdown",
   "metadata": {},
   "source": [
    "<h3>Starting to convert the database into the 3NF</h3>\n",
    "<h4>Separate out transitive properties</h4>"
   ]
  },
  {
   "cell_type": "code",
   "execution_count": 51,
   "metadata": {},
   "outputs": [],
   "source": [
    "try:\n",
    "    cursor.execute('''\n",
    "        CREATE TABLE IF NOT EXISTS ALBUM_LIBRARY_3NF (\n",
    "            ALBUM_ID INT,\n",
    "            ALBUM_NAME VARCHAR,\n",
    "            ARTIST_ID INT,\n",
    "            YEAR INT\n",
    "        );\n",
    "    ''')\n",
    "except psycopg2.Error as e:\n",
    "    print('Could not create album table')\n",
    "    print(e)"
   ]
  },
  {
   "cell_type": "code",
   "execution_count": 52,
   "metadata": {},
   "outputs": [],
   "source": [
    "try:\n",
    "    cursor.execute('''\n",
    "        CREATE TABLE IF NOT EXISTS SONG_LIBRARY_3NF (\n",
    "            SONG_ID INT,\n",
    "            SONG_NAME VARCHAR,\n",
    "            ALBUM_ID INT\n",
    "        );\n",
    "    ''')\n",
    "except psycopg2.Error as e:\n",
    "    print('Could not create song table')\n",
    "    print(e)"
   ]
  },
  {
   "cell_type": "code",
   "execution_count": 53,
   "metadata": {},
   "outputs": [],
   "source": [
    "try:\n",
    "    cursor.execute('''\n",
    "        CREATE TABLE IF NOT EXISTS ARTIST_LIBRARY_3NF (\n",
    "            ARTIST_ID INT,\n",
    "            ARTIST_NAME VARCHAR\n",
    "        );\n",
    "    ''')\n",
    "except psycopg2.Error as e:\n",
    "    print('Could not create song table')\n",
    "    print(e)"
   ]
  },
  {
   "cell_type": "code",
   "execution_count": 54,
   "metadata": {},
   "outputs": [],
   "source": [
    "query = '''\n",
    "    INSERT INTO ALBUM_LIBRARY_3NF (\n",
    "        ALBUM_ID,\n",
    "        ALBUM_NAME,\n",
    "        ARTIST_ID,\n",
    "        YEAR\n",
    "    ) \n",
    "    VALUES (\n",
    "        %s, %s, %s, %s\n",
    "    ) \n",
    "'''\n",
    "try:\n",
    "    cursor.execute(query, (1, 'Rubber Soul', 1, 1965))\n",
    "    cursor.execute(query, (2, 'Let It Be', 1, 1970))\n",
    "except psycopg2.Error as e:\n",
    "    print('Could not insert into table')\n",
    "    print(e)"
   ]
  },
  {
   "cell_type": "code",
   "execution_count": 55,
   "metadata": {},
   "outputs": [],
   "source": [
    "query = '''\n",
    "    INSERT INTO SONG_LIBRARY_3NF (\n",
    "        SONG_ID,\n",
    "        SONG_NAME,\n",
    "        ALBUM_ID\n",
    "    ) \n",
    "    VALUES (\n",
    "        %s, %s, %s\n",
    "    ) \n",
    "'''\n",
    "try:\n",
    "    cursor.execute(query, (1, 'Michele', 1))\n",
    "    cursor.execute(query, (2, 'Think For Yourself', 1))\n",
    "    cursor.execute(query, (3, 'In My Life', 1))\n",
    "    cursor.execute(query, (4, 'Let It Be', 2))\n",
    "    cursor.execute(query, (5, 'Across The Universe', 2))\n",
    "except psycopg2.Error as e:\n",
    "    print('Could not insert into table')\n",
    "    print(e)"
   ]
  },
  {
   "cell_type": "code",
   "execution_count": 56,
   "metadata": {},
   "outputs": [],
   "source": [
    "query = '''\n",
    "    INSERT INTO ARTIST_LIBRARY_3NF (\n",
    "        ARTIST_ID,\n",
    "        ARTIST_NAME\n",
    "    ) \n",
    "    VALUES (\n",
    "        %s, %s\n",
    "    ) \n",
    "'''\n",
    "try:\n",
    "    cursor.execute(query, (1, 'The Beatles'))\n",
    "except psycopg2.Error as e:\n",
    "    print('Could not insert into table')\n",
    "    print(e)"
   ]
  },
  {
   "cell_type": "code",
   "execution_count": 57,
   "metadata": {},
   "outputs": [
    {
     "name": "stdout",
     "output_type": "stream",
     "text": [
      "('Michele', 1, 'Rubber Soul', 1, 1965, 'The Beatles')\n",
      "('Think For Yourself', 1, 'Rubber Soul', 1, 1965, 'The Beatles')\n",
      "('In My Life', 1, 'Rubber Soul', 1, 1965, 'The Beatles')\n",
      "('Let It Be', 2, 'Let It Be', 1, 1970, 'The Beatles')\n",
      "('Across The Universe', 2, 'Let It Be', 1, 1970, 'The Beatles')\n"
     ]
    }
   ],
   "source": [
    "query = '''\n",
    "    SELECT \n",
    "          A.SONG_NAME\n",
    "        , B.*\n",
    "        , C.ARTIST_NAME\n",
    "    FROM \n",
    "        SONG_LIBRARY_3NF AS A \n",
    "            LEFT JOIN \n",
    "                ALBUM_LIBRARY_3NF AS B ON A.ALBUM_ID = B.ALBUM_ID\n",
    "            LEFT JOIN \n",
    "                ARTIST_LIBRARY_3NF AS C ON B.ARTIST_ID = C.ARTIST_ID\n",
    "'''\n",
    "try:\n",
    "    cursor.execute(query)\n",
    "except psycopg2.Error as e:\n",
    "    print('Could not insert into table')\n",
    "    print(e)\n",
    "\n",
    "row = cursor.fetchone()\n",
    "while row:\n",
    "    print(row)\n",
    "    row = cursor.fetchone()"
   ]
  }
 ],
 "metadata": {
  "kernelspec": {
   "display_name": "Python 3",
   "language": "python",
   "name": "python3"
  },
  "language_info": {
   "codemirror_mode": {
    "name": "ipython",
    "version": 3
   },
   "file_extension": ".py",
   "mimetype": "text/x-python",
   "name": "python",
   "nbconvert_exporter": "python",
   "pygments_lexer": "ipython3",
   "version": "3.8.5"
  }
 },
 "nbformat": 4,
 "nbformat_minor": 4
}
