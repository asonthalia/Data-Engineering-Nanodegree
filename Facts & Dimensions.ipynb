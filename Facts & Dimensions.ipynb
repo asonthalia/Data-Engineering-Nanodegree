{
 "cells": [
  {
   "cell_type": "code",
   "execution_count": 1,
   "metadata": {},
   "outputs": [],
   "source": [
    "import psycopg2"
   ]
  },
  {
   "cell_type": "code",
   "execution_count": 2,
   "metadata": {},
   "outputs": [],
   "source": [
    "try:\n",
    "    conn = psycopg2.connect(\"host=127.0.0.1 dbname=alpha\")\n",
    "except psycopg2.Error as e:\n",
    "    print('Could not make connection to the Postgre database')\n",
    "    print(e)"
   ]
  },
  {
   "cell_type": "code",
   "execution_count": 3,
   "metadata": {},
   "outputs": [],
   "source": [
    "try:\n",
    "    cursor = conn.cursor()\n",
    "except psycopg2.Error as e:\n",
    "    print('Could not create a cursor to the database')\n",
    "    print(e)"
   ]
  },
  {
   "cell_type": "code",
   "execution_count": 4,
   "metadata": {},
   "outputs": [],
   "source": [
    "conn.set_session(autocommit=True)"
   ]
  },
  {
   "cell_type": "markdown",
   "metadata": {},
   "source": [
    "<h3>Online Music Store Database</h3>"
   ]
  },
  {
   "cell_type": "code",
   "execution_count": 5,
   "metadata": {},
   "outputs": [],
   "source": [
    "try:\n",
    "    cursor.execute('''\n",
    "        CREATE TABLE IF NOT EXISTS CUSTOMER_TRANSACTIONS (\n",
    "            CUSTOMER_ID INT,\n",
    "            STORE_ID INT,\n",
    "            SPENT NUMERIC\n",
    "        );\n",
    "    ''')\n",
    "except psycopg2.Error as e:\n",
    "    print('Could not create trasnactions table')\n",
    "    print(e)"
   ]
  },
  {
   "cell_type": "code",
   "execution_count": 6,
   "metadata": {},
   "outputs": [],
   "source": [
    "try:\n",
    "    cursor.execute('''\n",
    "        CREATE TABLE IF NOT EXISTS CUSTOMER (\n",
    "            CUSTOMER_ID INT,\n",
    "            NAME VARCHAR,\n",
    "            REWARDS VARCHAR(1)\n",
    "        );\n",
    "    ''')\n",
    "except psycopg2.Error as e:\n",
    "    print('Could not create customer table')\n",
    "    print(e)"
   ]
  },
  {
   "cell_type": "code",
   "execution_count": 7,
   "metadata": {},
   "outputs": [],
   "source": [
    "try:\n",
    "    cursor.execute('''\n",
    "        CREATE TABLE IF NOT EXISTS STORE (\n",
    "            STORE_ID INT,\n",
    "            STATE VARCHAR\n",
    "        );\n",
    "    ''')\n",
    "except psycopg2.Error as e:\n",
    "    print('Could not create store table')\n",
    "    print(e)"
   ]
  },
  {
   "cell_type": "code",
   "execution_count": 8,
   "metadata": {},
   "outputs": [],
   "source": [
    "try:\n",
    "    cursor.execute('''\n",
    "        CREATE TABLE IF NOT EXISTS ITEMS_PURCHASED (\n",
    "            CUSTOMER_ID INT,\n",
    "            ITEM_NUMBER INT,\n",
    "            ITEM_NAME VARCHAR\n",
    "        );\n",
    "    ''')\n",
    "except psycopg2.Error as e:\n",
    "    print('Could not create items_purchased table')\n",
    "    print(e)"
   ]
  },
  {
   "cell_type": "markdown",
   "metadata": {},
   "source": [
    "Inserts"
   ]
  },
  {
   "cell_type": "code",
   "execution_count": 17,
   "metadata": {},
   "outputs": [],
   "source": [
    "query = '''\n",
    "    INSERT INTO CUSTOMER_TRANSACTIONS (\n",
    "        CUSTOMER_ID,\n",
    "        STORE_ID,\n",
    "        SPENT\n",
    "    ) \n",
    "    VALUES (\n",
    "        %s, %s, %s\n",
    "    ) \n",
    "'''\n",
    "try:\n",
    "    cursor.execute(query, (1, 1, 20.50))\n",
    "    cursor.execute(query, (2, 1, 35.21))\n",
    "except psycopg2.Error as e:\n",
    "    print('Could not insert into table')\n",
    "    print(e)"
   ]
  },
  {
   "cell_type": "code",
   "execution_count": 18,
   "metadata": {},
   "outputs": [],
   "source": [
    "query = '''\n",
    "    INSERT INTO CUSTOMER (\n",
    "        CUSTOMER_ID,\n",
    "        NAME,\n",
    "        REWARDS\n",
    "    ) \n",
    "    VALUES (\n",
    "        %s, %s, %s\n",
    "    ) \n",
    "'''\n",
    "try:\n",
    "    cursor.execute(query, (1, 'Amanda', 'Y'))\n",
    "    cursor.execute(query, (2, 'Toby', 'N'))\n",
    "except psycopg2.Error as e:\n",
    "    print('Could not insert into table')\n",
    "    print(e)"
   ]
  },
  {
   "cell_type": "code",
   "execution_count": 19,
   "metadata": {},
   "outputs": [],
   "source": [
    "query = '''\n",
    "    INSERT INTO STORE (\n",
    "        STORE_ID,\n",
    "        STATE\n",
    "    ) \n",
    "    VALUES (\n",
    "        %s, %s\n",
    "    ) \n",
    "'''\n",
    "try:\n",
    "    cursor.execute(query, (1, 'CA'))\n",
    "    cursor.execute(query, (2, 'WA'))\n",
    "except psycopg2.Error as e:\n",
    "    print('Could not insert into table')\n",
    "    print(e)"
   ]
  },
  {
   "cell_type": "code",
   "execution_count": 22,
   "metadata": {},
   "outputs": [],
   "source": [
    "query = '''\n",
    "    INSERT INTO ITEMS_PURCHASED (\n",
    "        CUSTOMER_ID,\n",
    "        ITEM_NUMBER,\n",
    "        ITEM_NAME\n",
    "    ) \n",
    "    VALUES (\n",
    "        %s, %s, %s\n",
    "    ) \n",
    "'''\n",
    "try:\n",
    "    cursor.execute(query, (1, 1, 'Rubber Soul'))\n",
    "    cursor.execute(query, (2, 3, 'Let It Be'))\n",
    "except psycopg2.Error as e:\n",
    "    print('Could not insert into table')\n",
    "    print(e)"
   ]
  },
  {
   "cell_type": "markdown",
   "metadata": {},
   "source": [
    "<h4>Find:</h4>\n",
    "<ul> \n",
    "    <li>Customers</li>\n",
    "    <li>Info About customers</li>\n",
    "    <li>Info about products</li>\n",
    "    <li>Rewards status</li> \n",
    "</ul>\n",
    "\n",
    "<h4>For spends more than $30</h4>"
   ]
  },
  {
   "cell_type": "code",
   "execution_count": 9,
   "metadata": {},
   "outputs": [
    {
     "name": "stdout",
     "output_type": "stream",
     "text": [
      "(2, 'Toby', 'N', 3, 'Let It Be')\n"
     ]
    }
   ],
   "source": [
    "query = '''\n",
    "    SELECT\n",
    "           A.CUSTOMER_ID\n",
    "         , B.NAME\n",
    "         , B.REWARDS\n",
    "         , C.ITEM_NUMBER\n",
    "         , C.ITEM_NAME\n",
    "    FROM \n",
    "        CUSTOMER_TRANSACTIONS A \n",
    "            LEFT JOIN CUSTOMER B ON A.CUSTOMER_ID = B.CUSTOMER_ID\n",
    "            LEFT JOIN ITEMS_PURCHASED C ON A.CUSTOMER_ID = C.CUSTOMER_ID\n",
    "    WHERE\n",
    "        SPENT >= 30\n",
    "\n",
    "'''\n",
    "try:\n",
    "    cursor.execute(query)\n",
    "except psycopg2.Error as e:\n",
    "    print('Could not fetch from tables')\n",
    "    print(e)\n",
    "\n",
    "row = cursor.fetchone()\n",
    "while row:\n",
    "    print(row)\n",
    "    row = cursor.fetchone()"
   ]
  },
  {
   "cell_type": "markdown",
   "metadata": {},
   "source": [
    "<h4>Find:</h4>\n",
    "<ul> \n",
    "    <li>How much did store 1 make?</li>\n",
    "</ul>"
   ]
  },
  {
   "cell_type": "code",
   "execution_count": 12,
   "metadata": {},
   "outputs": [
    {
     "name": "stdout",
     "output_type": "stream",
     "text": [
      "(1, 'CA', Decimal('55.71'))\n"
     ]
    }
   ],
   "source": [
    "query = '''\n",
    "    SELECT\n",
    "             A.STORE_ID\n",
    "           , B.STATE\n",
    "           , SUM(A.SPENT)\n",
    "    FROM \n",
    "        CUSTOMER_TRANSACTIONS A \n",
    "            LEFT JOIN STORE B ON A.STORE_ID = B.STORE_ID\n",
    "    WHERE A.STORE_ID = 1\n",
    "    GROUP BY A.STORE_ID, B.STATE\n",
    "\n",
    "'''\n",
    "try:\n",
    "    cursor.execute(query)\n",
    "except psycopg2.Error as e:\n",
    "    print('Could not fetch from tables')\n",
    "    print(e)\n",
    "\n",
    "row = cursor.fetchone()\n",
    "while row:\n",
    "    print(row)\n",
    "    row = cursor.fetchone()"
   ]
  },
  {
   "cell_type": "code",
   "execution_count": 14,
   "metadata": {},
   "outputs": [],
   "source": [
    "# Dropping all the tables\n",
    "query = '''\n",
    "    DROP TABLE IF EXISTS CUSTOMER_TRANSACTIONS;\n",
    "    DROP TABLE IF EXISTS STORE;\n",
    "    DROP TABLE IF EXISTS CUSTOMER;\n",
    "    DROP TABLE IF EXISTS ITEMS_PURCHASED;\n",
    "'''\n",
    "try:\n",
    "    cursor.execute(query)\n",
    "except psycopg2.Error as e:\n",
    "    print('Could not drop table')\n",
    "    print(e)"
   ]
  },
  {
   "cell_type": "code",
   "execution_count": null,
   "metadata": {},
   "outputs": [],
   "source": []
  }
 ],
 "metadata": {
  "kernelspec": {
   "display_name": "Python 3",
   "language": "python",
   "name": "python3"
  },
  "language_info": {
   "codemirror_mode": {
    "name": "ipython",
    "version": 3
   },
   "file_extension": ".py",
   "mimetype": "text/x-python",
   "name": "python",
   "nbconvert_exporter": "python",
   "pygments_lexer": "ipython3",
   "version": "3.8.5"
  }
 },
 "nbformat": 4,
 "nbformat_minor": 4
}
