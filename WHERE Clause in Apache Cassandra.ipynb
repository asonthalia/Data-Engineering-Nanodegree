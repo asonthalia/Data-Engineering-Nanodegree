{
 "cells": [
  {
   "cell_type": "code",
   "execution_count": 1,
   "metadata": {},
   "outputs": [],
   "source": [
    "import cassandra"
   ]
  },
  {
   "cell_type": "code",
   "execution_count": 2,
   "metadata": {},
   "outputs": [],
   "source": [
    "from cassandra.cluster import Cluster\n",
    "try:\n",
    "    cluster = Cluster(['127.0.0.1'])\n",
    "    session = cluster.connect()\n",
    "except Exception as e:\n",
    "    print(e)"
   ]
  },
  {
   "cell_type": "code",
   "execution_count": 3,
   "metadata": {},
   "outputs": [],
   "source": [
    "# Creating the keyspace (~ database)\n",
    "try:\n",
    "    session.execute(\"\"\"\n",
    "        CREATE KEYSPACE IF NOT EXISTS data_modelling\n",
    "        WITH REPLICATION =\n",
    "            {\n",
    "                'class' : 'SimpleStrategy',\n",
    "                'replication_factor' : 1\n",
    "            }\n",
    "    \"\"\")\n",
    "except Exception as e:\n",
    "    print(e)"
   ]
  },
  {
   "cell_type": "code",
   "execution_count": 4,
   "metadata": {},
   "outputs": [],
   "source": [
    "# Connect to the keyspace\n",
    "try:\n",
    "    session.set_keyspace('data_modelling')\n",
    "except Exception as e:\n",
    "    print(e)"
   ]
  },
  {
   "cell_type": "markdown",
   "metadata": {},
   "source": [
    "<h2>Questions for our data</h2>\n",
    "<h4>NEED TO MOVE THROUGH THE WHERE CLAUSE IN THE LOD DIRECTION OF PRIMARY KEYS</h4>"
   ]
  },
  {
   "cell_type": "code",
   "execution_count": 5,
   "metadata": {},
   "outputs": [],
   "source": [
    "query = 'CREATE TABLE IF NOT EXISTS music_library '\n",
    "query += '(YEAR INT, CITY TEXT, ARTIST_NAME TEXT, ALBUM_NAME TEXT, PRIMARY KEY (YEAR, ARTIST_NAME, ALBUM_NAME))'\n",
    "try:\n",
    "    session.execute(query)\n",
    "except Exception as e:\n",
    "    print(e)"
   ]
  },
  {
   "cell_type": "code",
   "execution_count": 6,
   "metadata": {},
   "outputs": [],
   "source": [
    "query = 'INSERT INTO music_library (YEAR, CITY, ARTIST_NAME, ALBUM_NAME)'\n",
    "query += ' VALUES (%s, %s, %s, %s)'\n",
    "try:\n",
    "    session.execute(query, (1970, 'London', 'The Beatles', 'Memento Mori'))\n",
    "    session.execute(query, (1970, 'The Moon', 'The Beatles', 'Laugh on me'))\n",
    "except Exception as e:\n",
    "    print(e)"
   ]
  },
  {
   "cell_type": "code",
   "execution_count": 7,
   "metadata": {
    "scrolled": true
   },
   "outputs": [
    {
     "name": "stdout",
     "output_type": "stream",
     "text": [
      "The Beatles, 1970, Laugh on me, The Moon\n",
      "The Beatles, 1970, Memento Mori, London\n"
     ]
    }
   ],
   "source": [
    "# Create table\n",
    "try:\n",
    "    rows = session.execute(\"SELECT * FROM music_library WHERE YEAR = 1970\")\n",
    "except Exception as e:\n",
    "    print(e)\n",
    "for row in rows:\n",
    "    print(', '.join([row.artist_name, str(row.year), row.album_name, row.city]))"
   ]
  },
  {
   "cell_type": "code",
   "execution_count": 9,
   "metadata": {
    "scrolled": true
   },
   "outputs": [
    {
     "name": "stdout",
     "output_type": "stream",
     "text": [
      "The Beatles, 1970, Laugh on me, The Moon\n",
      "The Beatles, 1970, Memento Mori, London\n"
     ]
    }
   ],
   "source": [
    "# Create table\n",
    "try:\n",
    "    rows = session.execute(\"SELECT * FROM music_library WHERE YEAR = 1970 AND ARTIST_NAME = 'The Beatles'\")\n",
    "except Exception as e:\n",
    "    print(e)\n",
    "for row in rows:\n",
    "    print(', '.join([row.artist_name, str(row.year), row.album_name, row.city]))"
   ]
  },
  {
   "cell_type": "code",
   "execution_count": 10,
   "metadata": {
    "scrolled": true
   },
   "outputs": [
    {
     "name": "stdout",
     "output_type": "stream",
     "text": [
      "Error from server: code=2200 [Invalid query] message=\"Cannot execute this query as it might involve data filtering and thus may have unpredictable performance. If you want to execute this query despite the performance unpredictability, use ALLOW FILTERING\"\n"
     ]
    }
   ],
   "source": [
    "# Create table\n",
    "try:\n",
    "    rows = session.execute(\"SELECT * FROM music_library WHERE YEAR = 1970 AND ARTIST_NAME = 'The Beatles' AND \")\n",
    "except Exception as e:\n",
    "    print(e)\n",
    "for row in rows:\n",
    "    print(', '.join([row.artist_name, str(row.year), row.album_name, row.city]))"
   ]
  },
  {
   "cell_type": "code",
   "execution_count": 23,
   "metadata": {},
   "outputs": [],
   "source": [
    "query = \"DROP TABLE MUSIC_LIBRARY;\"\n",
    "try:\n",
    "    rows = session.execute(query)\n",
    "except Exception as e:\n",
    "    print(e)"
   ]
  },
  {
   "cell_type": "code",
   "execution_count": 24,
   "metadata": {},
   "outputs": [],
   "source": [
    "session.shutdown()\n",
    "cluster.shutdown()"
   ]
  }
 ],
 "metadata": {
  "kernelspec": {
   "display_name": "Python 3",
   "language": "python",
   "name": "python3"
  },
  "language_info": {
   "codemirror_mode": {
    "name": "ipython",
    "version": 3
   },
   "file_extension": ".py",
   "mimetype": "text/x-python",
   "name": "python",
   "nbconvert_exporter": "python",
   "pygments_lexer": "ipython3",
   "version": "3.8.5"
  }
 },
 "nbformat": 4,
 "nbformat_minor": 4
}
