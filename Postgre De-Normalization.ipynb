{
 "cells": [
  {
   "cell_type": "code",
   "execution_count": 32,
   "metadata": {},
   "outputs": [],
   "source": [
    "import psycopg2"
   ]
  },
  {
   "cell_type": "code",
   "execution_count": 33,
   "metadata": {},
   "outputs": [],
   "source": [
    "try:\n",
    "    conn = psycopg2.connect(\"host=127.0.0.1 dbname=alpha\")\n",
    "except psycopg2.Error as e:\n",
    "    print('Could not make connection to the Postgre database')\n",
    "    print(e)"
   ]
  },
  {
   "cell_type": "code",
   "execution_count": 34,
   "metadata": {},
   "outputs": [],
   "source": [
    "try:\n",
    "    cursor = conn.cursor()\n",
    "except psycopg2.Error as e:\n",
    "    print('Could not create a cursor to the database')\n",
    "    print(e)"
   ]
  },
  {
   "cell_type": "code",
   "execution_count": 35,
   "metadata": {},
   "outputs": [],
   "source": [
    "conn.set_session(autocommit=True)"
   ]
  },
  {
   "cell_type": "markdown",
   "metadata": {},
   "source": [
    "<h3>Starting at the 3NF Form</h3>"
   ]
  },
  {
   "cell_type": "code",
   "execution_count": 36,
   "metadata": {},
   "outputs": [],
   "source": [
    "try:\n",
    "    cursor.execute('''\n",
    "        CREATE TABLE IF NOT EXISTS ALBUM_LIBRARY_3NF (\n",
    "            ALBUM_ID INT,\n",
    "            ALBUM_NAME VARCHAR,\n",
    "            ARTIST_ID INT,\n",
    "            YEAR INT\n",
    "        );\n",
    "    ''')\n",
    "except psycopg2.Error as e:\n",
    "    print('Could not create album table')\n",
    "    print(e)"
   ]
  },
  {
   "cell_type": "code",
   "execution_count": 37,
   "metadata": {},
   "outputs": [],
   "source": [
    "try:\n",
    "    cursor.execute('''\n",
    "        CREATE TABLE IF NOT EXISTS SONG_LIBRARY_3NF (\n",
    "            SONG_ID INT,\n",
    "            SONG_NAME VARCHAR,\n",
    "            ALBUM_ID INT\n",
    "        );\n",
    "    ''')\n",
    "except psycopg2.Error as e:\n",
    "    print('Could not create song table')\n",
    "    print(e)"
   ]
  },
  {
   "cell_type": "code",
   "execution_count": 38,
   "metadata": {},
   "outputs": [],
   "source": [
    "try:\n",
    "    cursor.execute('''\n",
    "        CREATE TABLE IF NOT EXISTS ARTIST_LIBRARY_3NF (\n",
    "            ARTIST_ID INT,\n",
    "            ARTIST_NAME VARCHAR\n",
    "        );\n",
    "    ''')\n",
    "except psycopg2.Error as e:\n",
    "    print('Could not create song table')\n",
    "    print(e)"
   ]
  },
  {
   "cell_type": "code",
   "execution_count": 39,
   "metadata": {},
   "outputs": [],
   "source": [
    "try:\n",
    "    cursor.execute('''\n",
    "        CREATE TABLE IF NOT EXISTS SONG_LENGTH_3NF (\n",
    "            SONG_ID INT,\n",
    "            SONG_LENGTH INT\n",
    "        );\n",
    "    ''')\n",
    "except psycopg2.Error as e:\n",
    "    print('Could not create song_length table')\n",
    "    print(e)"
   ]
  },
  {
   "cell_type": "code",
   "execution_count": 40,
   "metadata": {},
   "outputs": [],
   "source": [
    "query = '''\n",
    "    INSERT INTO ALBUM_LIBRARY_3NF (\n",
    "        ALBUM_ID,\n",
    "        ALBUM_NAME,\n",
    "        ARTIST_ID,\n",
    "        YEAR\n",
    "    ) \n",
    "    VALUES (\n",
    "        %s, %s, %s, %s\n",
    "    ) \n",
    "'''\n",
    "try:\n",
    "    cursor.execute(query, (1, 'Rubber Soul', 1, 1965))\n",
    "    cursor.execute(query, (2, 'Let It Be', 1, 1970))\n",
    "except psycopg2.Error as e:\n",
    "    print('Could not insert into table')\n",
    "    print(e)"
   ]
  },
  {
   "cell_type": "code",
   "execution_count": 41,
   "metadata": {},
   "outputs": [],
   "source": [
    "query = '''\n",
    "    INSERT INTO SONG_LIBRARY_3NF (\n",
    "        SONG_ID,\n",
    "        SONG_NAME,\n",
    "        ALBUM_ID\n",
    "    ) \n",
    "    VALUES (\n",
    "        %s, %s, %s\n",
    "    ) \n",
    "'''\n",
    "try:\n",
    "    cursor.execute(query, (1, 'Michele', 1))\n",
    "    cursor.execute(query, (2, 'Think For Yourself', 1))\n",
    "    cursor.execute(query, (3, 'In My Life', 1))\n",
    "    cursor.execute(query, (4, 'Let It Be', 2))\n",
    "    cursor.execute(query, (5, 'Across The Universe', 2))\n",
    "except psycopg2.Error as e:\n",
    "    print('Could not insert into table')\n",
    "    print(e)"
   ]
  },
  {
   "cell_type": "code",
   "execution_count": 42,
   "metadata": {},
   "outputs": [],
   "source": [
    "query = '''\n",
    "    INSERT INTO ARTIST_LIBRARY_3NF (\n",
    "        ARTIST_ID,\n",
    "        ARTIST_NAME\n",
    "    ) \n",
    "    VALUES (\n",
    "        %s, %s\n",
    "    ) \n",
    "'''\n",
    "try:\n",
    "    cursor.execute(query, (1, 'The Beatles'))\n",
    "except psycopg2.Error as e:\n",
    "    print('Could not insert into table')\n",
    "    print(e)"
   ]
  },
  {
   "cell_type": "code",
   "execution_count": 43,
   "metadata": {},
   "outputs": [],
   "source": [
    "query = '''\n",
    "    INSERT INTO SONG_LENGTH_3NF (\n",
    "        SONG_ID,\n",
    "        SONG_LENGTH\n",
    "    ) \n",
    "    VALUES (\n",
    "        %s, %s\n",
    "    ) \n",
    "'''\n",
    "try:\n",
    "    cursor.execute(query, (1, 163))\n",
    "    cursor.execute(query, (2, 137))\n",
    "    cursor.execute(query, (3, 145))\n",
    "    cursor.execute(query, (4, 240))\n",
    "    cursor.execute(query, (5, 227))\n",
    "except psycopg2.Error as e:\n",
    "    print('Could not insert into table')\n",
    "    print(e)"
   ]
  },
  {
   "cell_type": "code",
   "execution_count": 45,
   "metadata": {},
   "outputs": [
    {
     "name": "stdout",
     "output_type": "stream",
     "text": [
      "('Michele', 1, 'Rubber Soul', 1, 1965, 'The Beatles', 163)\n",
      "('Think For Yourself', 1, 'Rubber Soul', 1, 1965, 'The Beatles', 137)\n",
      "('In My Life', 1, 'Rubber Soul', 1, 1965, 'The Beatles', 145)\n",
      "('Let It Be', 2, 'Let It Be', 1, 1970, 'The Beatles', 240)\n",
      "('Across The Universe', 2, 'Let It Be', 1, 1970, 'The Beatles', 227)\n"
     ]
    }
   ],
   "source": [
    "query = '''\n",
    "    SELECT \n",
    "          A.SONG_NAME\n",
    "        , B.*\n",
    "        , C.ARTIST_NAME\n",
    "        , D.SONG_LENGTH\n",
    "    FROM \n",
    "        SONG_LIBRARY_3NF AS A \n",
    "            LEFT JOIN \n",
    "                ALBUM_LIBRARY_3NF AS B ON A.ALBUM_ID = B.ALBUM_ID\n",
    "            LEFT JOIN \n",
    "                ARTIST_LIBRARY_3NF AS C ON B.ARTIST_ID = C.ARTIST_ID\n",
    "            LEFT JOIN\n",
    "                SONG_LENGTH_3NF AS D ON A.SONG_ID = D.SONG_ID\n",
    "\n",
    "'''\n",
    "try:\n",
    "    cursor.execute(query)\n",
    "except psycopg2.Error as e:\n",
    "    print('Could not insert into table')\n",
    "    print(e)\n",
    "\n",
    "row = cursor.fetchone()\n",
    "while row:\n",
    "    print(row)\n",
    "    row = cursor.fetchone()"
   ]
  },
  {
   "cell_type": "code",
   "execution_count": 31,
   "metadata": {},
   "outputs": [],
   "source": [
    "# Dropping all the tables\n",
    "query = '''\n",
    "    DROP TABLE IF EXISTS SONG_LIBRARY_3NF;\n",
    "    DROP TABLE IF EXISTS ALBUM_LIBRARY_3NF;\n",
    "    DROP TABLE IF EXISTS ARTIST_LIBRARY_3NF;\n",
    "    DROP TABLE IF EXISTS SONG_LENGTH_3NF;\n",
    "'''\n",
    "try:\n",
    "    cursor.execute(query)\n",
    "except psycopg2.Error as e:\n",
    "    print('Could not insert into table')\n",
    "    print(e)"
   ]
  },
  {
   "cell_type": "markdown",
   "metadata": {},
   "source": [
    "<h3>Considering our query is: </h3>\n",
    "<h4>SELECT ALBUM_ID, ALBUM_NAME, SUM(SONG_LENGTH) AS ALBUM_LENGTH FROM TABLE GROUP BY (ALBUM_ID)</h4>"
   ]
  },
  {
   "cell_type": "code",
   "execution_count": 47,
   "metadata": {},
   "outputs": [],
   "source": [
    "# Creating a dummy table which is a central denormalised table reducing joins - shortcut to condense tables\n",
    "query = '''\n",
    "    SELECT \n",
    "          A.SONG_NAME\n",
    "        , B.*\n",
    "        , C.ARTIST_NAME\n",
    "        , D.SONG_LENGTH\n",
    "    INTO FLAT_TABLE\n",
    "    FROM \n",
    "        SONG_LIBRARY_3NF AS A \n",
    "            LEFT JOIN \n",
    "                ALBUM_LIBRARY_3NF AS B ON A.ALBUM_ID = B.ALBUM_ID\n",
    "            LEFT JOIN \n",
    "                ARTIST_LIBRARY_3NF AS C ON B.ARTIST_ID = C.ARTIST_ID\n",
    "            LEFT JOIN\n",
    "                SONG_LENGTH_3NF AS D ON A.SONG_ID = D.SONG_ID\n",
    "\n",
    "'''\n",
    "try:\n",
    "    cursor.execute(query)\n",
    "except psycopg2.Error as e:\n",
    "    print('Could not insert into table')\n",
    "    print(e)"
   ]
  },
  {
   "cell_type": "code",
   "execution_count": 50,
   "metadata": {},
   "outputs": [
    {
     "name": "stdout",
     "output_type": "stream",
     "text": [
      "(2, 'Let It Be', 467)\n",
      "(1, 'Rubber Soul', 445)\n"
     ]
    }
   ],
   "source": [
    "query = '''\n",
    "    SELECT \n",
    "          ALBUM_ID\n",
    "        , ALBUM_NAME\n",
    "        , SUM(SONG_LENGTH) AS ALBUM_LENGTH_SEC\n",
    "    FROM \n",
    "        FLAT_TABLE\n",
    "    GROUP BY \n",
    "          ALBUM_ID\n",
    "        , ALBUM_NAME\n",
    "'''\n",
    "try:\n",
    "    cursor.execute(query)\n",
    "except psycopg2.Error as e:\n",
    "    print('Could not insert into table')\n",
    "    print(e)\n",
    "row = cursor.fetchone()\n",
    "while row:\n",
    "    print(row)\n",
    "    row = cursor.fetchone()"
   ]
  }
 ],
 "metadata": {
  "kernelspec": {
   "display_name": "Python 3",
   "language": "python",
   "name": "python3"
  },
  "language_info": {
   "codemirror_mode": {
    "name": "ipython",
    "version": 3
   },
   "file_extension": ".py",
   "mimetype": "text/x-python",
   "name": "python",
   "nbconvert_exporter": "python",
   "pygments_lexer": "ipython3",
   "version": "3.8.5"
  }
 },
 "nbformat": 4,
 "nbformat_minor": 4
}
