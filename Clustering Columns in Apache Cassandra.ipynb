{
 "cells": [
  {
   "cell_type": "code",
   "execution_count": 1,
   "metadata": {},
   "outputs": [],
   "source": [
    "import cassandra"
   ]
  },
  {
   "cell_type": "code",
   "execution_count": 12,
   "metadata": {},
   "outputs": [],
   "source": [
    "from cassandra.cluster import Cluster\n",
    "try:\n",
    "    cluster = Cluster(['127.0.0.1'])\n",
    "    session = cluster.connect()\n",
    "except Exception as e:\n",
    "    print(e)"
   ]
  },
  {
   "cell_type": "code",
   "execution_count": 13,
   "metadata": {},
   "outputs": [],
   "source": [
    "# Creating the keyspace (~ database)\n",
    "try:\n",
    "    session.execute(\"\"\"\n",
    "        CREATE KEYSPACE IF NOT EXISTS data_modelling\n",
    "        WITH REPLICATION =\n",
    "            {\n",
    "                'class' : 'SimpleStrategy',\n",
    "                'replication_factor' : 1\n",
    "            }\n",
    "    \"\"\")\n",
    "except Exception as e:\n",
    "    print(e)"
   ]
  },
  {
   "cell_type": "code",
   "execution_count": 14,
   "metadata": {},
   "outputs": [],
   "source": [
    "# Connect to the keyspace\n",
    "try:\n",
    "    session.set_keyspace('data_modelling')\n",
    "except Exception as e:\n",
    "    print(e)"
   ]
  },
  {
   "cell_type": "markdown",
   "metadata": {},
   "source": [
    "<h2>Questions for our data</h2>\n",
    "<h4>1. Give me all albums of a particular artist</h4>\n",
    "SELECT * FROM MUSIC_LIBRARY WHERE ARTIST_NAME = 'THE BEATLES'"
   ]
  },
  {
   "cell_type": "code",
   "execution_count": 15,
   "metadata": {},
   "outputs": [],
   "source": [
    "query = 'CREATE TABLE IF NOT EXISTS music_library '\n",
    "query += '(YEAR INT, CITY TEXT, ARTIST_NAME TEXT, ALBUM_NAME TEXT, PRIMARY KEY (ARTIST_NAME, ALBUM_NAME, CITY))'\n",
    "try:\n",
    "    session.execute(query)\n",
    "except Exception as e:\n",
    "    print(e)"
   ]
  },
  {
   "cell_type": "code",
   "execution_count": 16,
   "metadata": {},
   "outputs": [],
   "source": [
    "query = 'INSERT INTO music_library (YEAR, CITY, ARTIST_NAME, ALBUM_NAME)'\n",
    "query += ' VALUES (%s, %s, %s, %s)'\n",
    "try:\n",
    "    session.execute(query, (1970, 'New York', 'The Beatles', 'Let It Be'))\n",
    "    session.execute(query, (1970, 'Bangalore', 'The Beatles', 'I Will Win'))\n",
    "except Exception as e:\n",
    "    print(e)"
   ]
  },
  {
   "cell_type": "code",
   "execution_count": 18,
   "metadata": {
    "scrolled": true
   },
   "outputs": [
    {
     "name": "stdout",
     "output_type": "stream",
     "text": [
      "The Beatles, 1970, I Will Win, Bangalore\n",
      "The Beatles, 1970, Let It Be, New York\n"
     ]
    }
   ],
   "source": [
    "# Create table\n",
    "try:\n",
    "    rows = session.execute(\"SELECT * FROM music_library WHERE ARTIST_NAME = 'The Beatles'\")\n",
    "except Exception as e:\n",
    "    print(e)\n",
    "for row in rows:\n",
    "    print(', '.join([row.artist_name, str(row.year), row.album_name, row.city]))"
   ]
  },
  {
   "cell_type": "code",
   "execution_count": 11,
   "metadata": {},
   "outputs": [
    {
     "name": "stdout",
     "output_type": "stream",
     "text": [
      "Error from server: code=2200 [Invalid query] message=\"unconfigured table music_library\"\n"
     ]
    }
   ],
   "source": [
    "query = \"DROP TABLE MUSIC_LIBRARY;\"\n",
    "try:\n",
    "    rows = session.execute(query)\n",
    "except Exception as e:\n",
    "    print(e)"
   ]
  },
  {
   "cell_type": "code",
   "execution_count": 43,
   "metadata": {},
   "outputs": [],
   "source": [
    "session.shutdown()\n",
    "cluster.shutdown()"
   ]
  }
 ],
 "metadata": {
  "kernelspec": {
   "display_name": "Python 3",
   "language": "python",
   "name": "python3"
  },
  "language_info": {
   "codemirror_mode": {
    "name": "ipython",
    "version": 3
   },
   "file_extension": ".py",
   "mimetype": "text/x-python",
   "name": "python",
   "nbconvert_exporter": "python",
   "pygments_lexer": "ipython3",
   "version": "3.8.5"
  }
 },
 "nbformat": 4,
 "nbformat_minor": 4
}
